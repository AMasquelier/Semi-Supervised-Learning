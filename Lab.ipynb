{
 "cells": [
  {
   "cell_type": "code",
   "execution_count": 1,
   "id": "f6bd0cce-6b29-4cfb-adb9-3737a4574172",
   "metadata": {},
   "outputs": [],
   "source": [
    "import pandas as pd\n",
    "import numpy as np\n",
    "from tqdm import tqdm\n",
    "\n",
    "import torch.nn as nn\n",
    "import torch.nn.functional as F\n",
    "import torch.optim as optim\n",
    "from torch.utils.data import DataLoader\n",
    "from torchvision import transforms\n",
    "import timm\n",
    "import torch\n",
    "\n",
    "from augmentations import Masking, GaussianNoise, Stretch\n",
    "from data import get_datasets\n",
    "from AdaMatch import AdaMatch\n",
    "from Baseline import Baseline\n",
    "from FixMatch import FixMatch\n",
    "from model import Model\n",
    "from metrics import AUC, Error_Rate"
   ]
  },
  {
   "cell_type": "code",
   "execution_count": 2,
   "id": "cb41295e-1595-4f58-aefd-bb2ce576af59",
   "metadata": {},
   "outputs": [],
   "source": [
    "# Hyperparameters\n",
    "epochs = 2048\n",
    "learning_rate = 1e-3\n",
    "momentum = 0.9\n",
    "mu = 7\n",
    "use_cuda = torch.cuda.is_available()\n",
    "device = torch.device(\"cuda\" if use_cuda else \"cpu\")\n",
    "\n",
    "# Data\n",
    "train_dataset, unlabeled_dataset, test_dataset = get_datasets('./data', name='mnist', download=True, transform=transforms.ToTensor(), n_labeled=24, seed=4)\n",
    "\n",
    "batch_size = 64\n",
    "train_loader = DataLoader(train_dataset, batch_size=batch_size, shuffle=True)\n",
    "test_loader = DataLoader(test_dataset, batch_size=batch_size, shuffle=False)\n",
    "unlabeled_loader = DataLoader(unlabeled_dataset, batch_size=batch_size*mu, shuffle=True)\n"
   ]
  },
  {
   "cell_type": "code",
   "execution_count": 3,
   "id": "f21b3ce2-b019-40ec-a09a-8cdb7de7afc1",
   "metadata": {},
   "outputs": [
    {
     "data": {
      "text/plain": [
       "array([0, 1, 2, 3, 4, 5, 6, 7, 8, 9])"
      ]
     },
     "execution_count": 3,
     "metadata": {},
     "output_type": "execute_result"
    }
   ],
   "source": [
    "np.unique([np.argmax(train_dataset[i][1]) for i in range(20)])"
   ]
  },
  {
   "cell_type": "code",
   "execution_count": 4,
   "id": "6be5a383-f501-48e7-9bbe-95843626b967",
   "metadata": {},
   "outputs": [],
   "source": [
    "weak = transforms.Compose([\n",
    "    transforms.RandomAffine(45, translate=(.1, .1)),\n",
    "])\n",
    "\n",
    "strong = transforms.Compose([\n",
    "    transforms.RandomAutocontrast(),\n",
    "    transforms.GaussianBlur(kernel_size=(5,9), sigma=(.1, 2.)),\n",
    "    transforms.RandomInvert(),\n",
    "    transforms.RandomAffine(90, translate=(.3, .3), scale=(.8, 1.2), shear=(-.1, .1, -.1, .1)),\n",
    "    transforms.RandomErasing()\n",
    "])"
   ]
  },
  {
   "cell_type": "code",
   "execution_count": 5,
   "id": "51a8c6c3-25da-428e-9082-5aebe8204cb3",
   "metadata": {},
   "outputs": [
    {
     "name": "stdout",
     "output_type": "stream",
     "text": [
      "Epoch 2048/2048\n",
      "\u001b[1m Training \t|\t loss=0.023\u001b[0m\n",
      "\u001b[1m Validation \t|\t loss=200.938  -  AUC=0.937  -  Error_Rate=0.37\u001b[0m\n",
      "\n",
      "\u001b[1m Best : AUC=0.936  -  Error_Rate=0.369 at epoch 500\n"
     ]
    }
   ],
   "source": [
    "config = {'backbone':'resnet18','n_channels':1}\n",
    "model = Model(10, config=config)\n",
    "optimizer = optim.SGD(model.parameters(), lr=learning_rate, momentum=momentum)\n",
    "scheduler = torch.optim.lr_scheduler.CosineAnnealingLR(optimizer, epochs, eta_min=1e-8)\n",
    "criterion = nn.functional.cross_entropy\n",
    "metrics = [AUC,Error_Rate]\n",
    "\n",
    "trainer = Baseline(weak_transform=weak)\n",
    "model, log_baseline = trainer.train(train_loader, test_loader, model, optimizer, criterion, metrics, scheduler=scheduler, epochs=epochs)"
   ]
  },
  {
   "cell_type": "code",
   "execution_count": null,
   "id": "e869cc33-b465-470c-9a3f-8ecf9524b009",
   "metadata": {},
   "outputs": [
    {
     "name": "stdout",
     "output_type": "stream",
     "text": [
      "Epoch 1937/2048\n",
      "\u001b[1m Training \t|\t loss=[0.291 0.012 0.28 ]  |  111.0 Pseudo-labels\u001b[0m\n",
      "\u001b[1m Validation \t|\t loss=160.676  -  AUC=0.941  -  Error_Rate=0.304\u001b[0m\n",
      "\n",
      "\u001b[1m Best : AUC=0.945  -  Error_Rate=0.296 at epoch 1072\n"
     ]
    }
   ],
   "source": [
    "config = {'backbone':'resnet18', 'n_channels':1}\n",
    "model = Model(10, config=config)\n",
    "optimizer = optim.SGD(model.parameters(), lr=learning_rate, momentum=momentum)\n",
    "scheduler = torch.optim.lr_scheduler.CosineAnnealingLR(optimizer, epochs, eta_min=1e-8)\n",
    "criterion = nn.functional.cross_entropy\n",
    "metrics = [AUC,Error_Rate]\n",
    "\n",
    "\n",
    "trainer = FixMatch(tau=0.95, strong_transform=strong, weak_transform=weak)\n",
    "model, log_fixmatch = trainer.train(train_loader, unlabeled_loader, test_loader, model, optimizer, criterion, metrics, scheduler=scheduler, epochs=epochs)"
   ]
  },
  {
   "cell_type": "code",
   "execution_count": null,
   "id": "fe7e7962-f796-4a4e-bcf2-9f672b135c41",
   "metadata": {},
   "outputs": [],
   "source": []
  }
 ],
 "metadata": {
  "kernelspec": {
   "display_name": "Python 3 (ipykernel)",
   "language": "python",
   "name": "python3"
  },
  "language_info": {
   "codemirror_mode": {
    "name": "ipython",
    "version": 3
   },
   "file_extension": ".py",
   "mimetype": "text/x-python",
   "name": "python",
   "nbconvert_exporter": "python",
   "pygments_lexer": "ipython3",
   "version": "3.12.9"
  }
 },
 "nbformat": 4,
 "nbformat_minor": 5
}
