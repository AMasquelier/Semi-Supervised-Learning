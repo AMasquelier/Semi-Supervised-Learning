{
 "cells": [
  {
   "cell_type": "code",
   "execution_count": 1,
   "id": "f6bd0cce-6b29-4cfb-adb9-3737a4574172",
   "metadata": {},
   "outputs": [],
   "source": [
    "import pandas as pd\n",
    "import numpy as np\n",
    "from tqdm import tqdm\n",
    "\n",
    "import torch.nn as nn\n",
    "import torch.nn.functional as F\n",
    "import torch.optim as optim\n",
    "from torch.utils.data import DataLoader\n",
    "from torchvision import transforms\n",
    "import timm\n",
    "import torch\n",
    "\n",
    "from augmentations import Masking, GaussianNoise, Stretch\n",
    "from data import get_datasets\n",
    "from AdaMatch import AdaMatch\n",
    "from Baseline import Baseline\n",
    "from FixMatch import FixMatch\n",
    "from model import Model\n",
    "from metrics import AUC, Error_Rate"
   ]
  },
  {
   "cell_type": "code",
   "execution_count": 2,
   "id": "cb41295e-1595-4f58-aefd-bb2ce576af59",
   "metadata": {},
   "outputs": [
    {
     "name": "stdout",
     "output_type": "stream",
     "text": [
      "All labels in the training set\n"
     ]
    }
   ],
   "source": [
    "# Hyperparameters\n",
    "epochs = 4096\n",
    "learning_rate = 1e-3\n",
    "momentum = 0.9\n",
    "mu = 7\n",
    "use_cuda = torch.cuda.is_available()\n",
    "device = torch.device(\"cuda\" if use_cuda else \"cpu\")\n",
    "\n",
    "# Data\n",
    "train_dataset, unlabeled_dataset, test_dataset = get_datasets('./data', name='cifar10', download=True, transform=transforms.ToTensor(), n_labeled=64, seed=4)\n",
    "\n",
    "batch_size = 64\n",
    "train_loader = DataLoader(train_dataset, batch_size=batch_size, shuffle=True)\n",
    "test_loader = DataLoader(test_dataset, batch_size=batch_size, shuffle=False)\n",
    "unlabeled_loader = DataLoader(unlabeled_dataset, batch_size=batch_size*mu, shuffle=True)\n",
    "if len(np.unique([np.argmax(x[1]) for x in train_dataset]))==10: print('All labels in the training set')"
   ]
  },
  {
   "cell_type": "code",
   "execution_count": 3,
   "id": "6be5a383-f501-48e7-9bbe-95843626b967",
   "metadata": {},
   "outputs": [],
   "source": [
    "weak = transforms.Compose([\n",
    "    transforms.RandomHorizontalFlip()\n",
    "])\n",
    "\n",
    "strong = transforms.Compose([\n",
    "    transforms.RandomHorizontalFlip(),\n",
    "    transforms.RandomAutocontrast(),\n",
    "    transforms.GaussianBlur(kernel_size=(5,9), sigma=(.1, 2.)),\n",
    "    transforms.RandomAffine(80, translate=(.3, .3), scale=(.8, 1.2), shear=(-.1, .1, -.1, .1)),\n",
    "    transforms.RandomErasing()\n",
    "])"
   ]
  },
  {
   "cell_type": "markdown",
   "id": "2b553450-22b9-4ceb-9e70-d0c4c0bf6573",
   "metadata": {},
   "source": [
    "### Augmentation"
   ]
  },
  {
   "cell_type": "code",
   "execution_count": 8,
   "id": "51a8c6c3-25da-428e-9082-5aebe8204cb3",
   "metadata": {},
   "outputs": [
    {
     "name": "stdout",
     "output_type": "stream",
     "text": [
      "Epoch 4096/4096\n",
      "\u001b[1m Training \t|\t loss=0.005\u001b[0m\n",
      "\u001b[1m Validation \t|\t loss=812.158  -  AUC=0.568  -  Error_Rate=0.85\u001b[0m\n",
      "\n",
      "\u001b[1m Best : AUC=0.598  -  Error_Rate=0.866 at epoch 64\n"
     ]
    }
   ],
   "source": [
    "config = {'backbone':'resnet18','n_channels':3, 'pretrained':False}\n",
    "model = Model(10, config=config)\n",
    "optimizer = optim.SGD(model.parameters(), lr=learning_rate, momentum=momentum)\n",
    "scheduler = torch.optim.lr_scheduler.CosineAnnealingLR(optimizer, epochs, eta_min=1e-8)\n",
    "criterion = nn.functional.cross_entropy\n",
    "metrics = [AUC,Error_Rate]\n",
    "\n",
    "trainer = Baseline(weak_transform=weak)\n",
    "model, log_baseline = trainer.train(train_loader, test_loader, model, optimizer, criterion, metrics, scheduler=scheduler, epochs=epochs)"
   ]
  },
  {
   "cell_type": "markdown",
   "id": "1d27ce6a-2c89-496c-9cc9-fed7556466d6",
   "metadata": {},
   "source": [
    "### FixMatch"
   ]
  },
  {
   "cell_type": "code",
   "execution_count": 9,
   "id": "e869cc33-b465-470c-9a3f-8ecf9524b009",
   "metadata": {},
   "outputs": [
    {
     "name": "stdout",
     "output_type": "stream",
     "text": [
      "Epoch 4096/4096\n",
      "\u001b[1m Training \t|\t loss=[0.196 0.01  0.186]  |  49.0 Pseudo-labels\u001b[0m\n",
      "\u001b[1m Validation \t|\t loss=631.61  -  AUC=0.603  -  Error_Rate=0.822\u001b[0m\n",
      "\n",
      "\u001b[1m Best : AUC=0.609  -  Error_Rate=0.85 at epoch 76\n"
     ]
    }
   ],
   "source": [
    "config = {'backbone':'resnet18', 'n_channels':3}\n",
    "model = Model(10, config=config)\n",
    "optimizer = optim.SGD(model.parameters(), lr=learning_rate, momentum=momentum)\n",
    "scheduler = torch.optim.lr_scheduler.CosineAnnealingLR(optimizer, epochs, eta_min=1e-8)\n",
    "criterion = nn.functional.cross_entropy\n",
    "metrics = [AUC,Error_Rate]\n",
    "\n",
    "\n",
    "trainer = FixMatch(tau=0.95, strong_transform=strong, weak_transform=weak)\n",
    "model, log_fixmatch = trainer.train(train_loader, unlabeled_loader, test_loader, model, optimizer, criterion, metrics, scheduler=scheduler, epochs=epochs)"
   ]
  },
  {
   "cell_type": "markdown",
   "id": "9f0695bd-1dcc-4806-a5ad-3eb52d48ccd5",
   "metadata": {},
   "source": [
    "### AdaMatch"
   ]
  },
  {
   "cell_type": "code",
   "execution_count": 4,
   "id": "5bf73800-dac6-4b11-be4e-d7520bf6f592",
   "metadata": {},
   "outputs": [
    {
     "name": "stdout",
     "output_type": "stream",
     "text": [
      "Epoch 4096/4096\n",
      "\u001b[1m Training \t|\t loss=[2.763 1.937 0.826]  |  238.0 Pseudo-labels\u001b[0m\n",
      "\u001b[1m Validation \t|\t loss=438.378  -  AUC=0.682  -  Error_Rate=0.787\u001b[0m\n",
      "\n",
      "\u001b[1m Best : AUC=0.606  -  Error_Rate=0.844 at epoch 120\n"
     ]
    }
   ],
   "source": [
    "config = {'backbone':'resnet18', 'n_channels':3}\n",
    "model = Model(10, config=config)\n",
    "optimizer = optim.SGD(model.parameters(), lr=learning_rate, momentum=momentum)\n",
    "scheduler = torch.optim.lr_scheduler.CosineAnnealingLR(optimizer, epochs, eta_min=1e-8)\n",
    "criterion = nn.functional.cross_entropy\n",
    "metrics = [AUC,Error_Rate]\n",
    "\n",
    "\n",
    "trainer = AdaMatch(tau=0.95, strong_transform=strong, weak_transform=weak)\n",
    "model, log_fixmatch = trainer.train(train_loader, unlabeled_loader, test_loader, model, optimizer, criterion, metrics, scheduler=scheduler, epochs=epochs)"
   ]
  },
  {
   "cell_type": "code",
   "execution_count": null,
   "id": "6fe54235-48c4-48eb-9317-d91d9a9cacd5",
   "metadata": {},
   "outputs": [],
   "source": []
  },
  {
   "cell_type": "code",
   "execution_count": null,
   "id": "850279a1-e15e-4222-a21b-0947fec3a6ea",
   "metadata": {},
   "outputs": [],
   "source": []
  },
  {
   "cell_type": "code",
   "execution_count": null,
   "id": "94a5db6b-3012-4062-8c14-2a94731db4d6",
   "metadata": {},
   "outputs": [],
   "source": []
  }
 ],
 "metadata": {
  "kernelspec": {
   "display_name": "Python 3 (ipykernel)",
   "language": "python",
   "name": "python3"
  },
  "language_info": {
   "codemirror_mode": {
    "name": "ipython",
    "version": 3
   },
   "file_extension": ".py",
   "mimetype": "text/x-python",
   "name": "python",
   "nbconvert_exporter": "python",
   "pygments_lexer": "ipython3",
   "version": "3.12.9"
  }
 },
 "nbformat": 4,
 "nbformat_minor": 5
}
